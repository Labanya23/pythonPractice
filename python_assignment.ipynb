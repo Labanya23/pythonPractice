{
  "nbformat": 4,
  "nbformat_minor": 0,
  "metadata": {
    "colab": {
      "provenance": []
    },
    "kernelspec": {
      "name": "python3",
      "display_name": "Python 3"
    },
    "language_info": {
      "name": "python"
    }
  },
  "cells": [
    {
      "cell_type": "markdown",
      "source": [
        "User.py file\n",
        "Where input the details of user"
      ],
      "metadata": {
        "id": "fZu_ErSZAHK3"
      }
    },
    {
      "cell_type": "markdown",
      "source": [
        "User.py                     File where put all details of user"
      ],
      "metadata": {
        "id": "IO8anqMaAZmD"
      }
    },
    {
      "cell_type": "code",
      "source": [
        "class User:\n",
        "  def __init__(self,name,address,details) ->None:\n",
        "      self.name = name\n",
        "      self.address = address\n",
        "      self.details = details\n",
        "\n"
      ],
      "metadata": {
        "id": "-UCnbbbMAUQN"
      },
      "execution_count": null,
      "outputs": []
    },
    {
      "cell_type": "markdown",
      "source": [
        "Details.py file where all datamanagement of this file how add delete and showing those details"
      ],
      "metadata": {
        "id": "_M-g7EOrBCfi"
      }
    },
    {
      "cell_type": "code",
      "source": [
        "class DataManagement:\n",
        "  def __init__(self,name,price) ->None:\n",
        "    self.name = name\n",
        "    self.price = price"
      ],
      "metadata": {
        "id": "-udSmOd1BdvE"
      },
      "execution_count": null,
      "outputs": []
    },
    {
      "cell_type": "code",
      "source": [
        "class Food:\n",
        "  def __init__(self, name , price , category) ->None:\n",
        "    super(). __init__(name , price)\n",
        "    self.category = category"
      ],
      "metadata": {
        "id": "meGepFTvBxLL"
      },
      "execution_count": null,
      "outputs": []
    },
    {
      "cell_type": "code",
      "source": [
        "class Tranport:\n",
        "  def __init__(self,name,price,types) ->None:\n",
        "    super(). __init__(name , price)\n",
        "    self.types = types"
      ],
      "metadata": {
        "id": "RxZe98sDCMdg"
      },
      "execution_count": null,
      "outputs": []
    },
    {
      "cell_type": "code",
      "source": [
        "class Entertainment:\n",
        "  def __init__(self , name,price,useable) ->None:\n",
        "    super(). __init__(name,price)\n",
        "    self.useable = useable"
      ],
      "metadata": {
        "id": "uVM4D950Cj0Q"
      },
      "execution_count": null,
      "outputs": []
    },
    {
      "cell_type": "markdown",
      "source": [
        "Now show how to add those details ,how to remove,show all the thing ,the price total expences"
      ],
      "metadata": {
        "id": "V0wQ43VhC_l_"
      }
    },
    {
      "cell_type": "code",
      "source": [
        "class Details:\n",
        "  def __init__(self)->None:\n",
        "    self.Food = []\n",
        "    self.Ttansport = []\n",
        "    self.Entertainment = []\n",
        "    #just put the details in here"
      ],
      "metadata": {
        "id": "mFEO3CtXDRxf"
      },
      "execution_count": null,
      "outputs": []
    },
    {
      "cell_type": "code",
      "source": [
        "#add the choices\n",
        "#Food\n",
        "\n",
        "def add__choice(self,choice_type,choice):\n",
        "  if choice_type == 'Food':\n",
        "    self.Foods.append(choice)\n",
        "\n",
        "#Transport\n",
        "\n",
        "def add__choice(self,choice_type,choice):\n",
        "  if choice_type == 'Transport':\n",
        "    self.Transports.append(choice)\n",
        "\n",
        "#Entertainment\n",
        "\n",
        "def add__choice(self,choice_type,choice):\n",
        "  if choice_type == 'Entertainment':\n",
        "    self.Entertainments.append(choice)"
      ],
      "metadata": {
        "id": "Ge1aRstWDt0N"
      },
      "execution_count": null,
      "outputs": []
    },
    {
      "cell_type": "code",
      "source": [
        "#remove\n",
        "#if we want any choice remove in this details\n",
        "\n",
        "def remove__Food(self,Food):\n",
        "   if Food in self.remove(Food):\n",
        "    remove.Food"
      ],
      "metadata": {
        "id": "atTtyRN_E7c7"
      },
      "execution_count": null,
      "outputs": []
    },
    {
      "cell_type": "code",
      "source": [
        "#now show the details\n",
        "\n",
        "def show_details(self):\n",
        "  for Food in self.Foods:\n",
        "      print(f'name:{Food.name} price:{Food.price}')\n",
        "\n",
        "\n",
        "def show_details(self):\n",
        "  for Transport in self.Transports:\n",
        "      print(f'name:{Food.name} price:{Food.price}')\n",
        "\n",
        "def show_details(self):\n",
        "  for Transport in self.Transports:\n",
        "      print(f'name:{Transport.name} price:{Transport.price}')\n",
        "\n",
        "def show_details(self):\n",
        "  for Entertainment in self.Entertainments:\n",
        "      print(f'name:{Entertainment.name} price:{Entertainment.price}')\n"
      ],
      "metadata": {
        "id": "05gN9j1sFgIE"
      },
      "execution_count": null,
      "outputs": []
    },
    {
      "cell_type": "code",
      "source": [
        "#total calculate\n",
        "\n",
        "def total_calculate(self,price,weekly,monthly,yearly):\n",
        "  #super(). __init__(price):\n",
        "  self.total+price\n",
        "  weekly = price*7\n",
        "  monthly = price*30\n",
        "  yearly = price*365\n",
        "\n",
        "  print(f'Total{weekly+monthly+yearly}')\n"
      ],
      "metadata": {
        "id": "2jnR3p1fHE9x"
      },
      "execution_count": null,
      "outputs": []
    },
    {
      "cell_type": "markdown",
      "source": [
        "THEN OPEN Main.py file where the showing of those value output"
      ],
      "metadata": {
        "id": "aJPaNjr_I4Yr"
      }
    },
    {
      "cell_type": "code",
      "source": [
        "def main():\n",
        "  details = Details\n",
        "  Food_1 = Food('pizza',600,'large')\n",
        "  details.add_details_choice('Food',Food_1)\n",
        "\n",
        "  Transport_1 = Transport('Bus',1400,'AC')\n",
        "  details.add_details_choice('Transport',Transport_1)\n",
        "\n",
        "  Entertainment_1 = Entertainment('K-pop',600,'Phone')\n",
        "  details.add_details_choice('Entertainment',Entertainment_1)\n",
        "\n",
        "  details.show_details()\n",
        "\n",
        "  if __name__ == '_main_':\n",
        "    main()"
      ],
      "metadata": {
        "id": "SCv9nt4OJIrC"
      },
      "execution_count": null,
      "outputs": []
    },
    {
      "cell_type": "markdown",
      "source": [
        "**Still not solve this problem.In the solving I try have soo much error and not correctly implement anything..Why Iam not able to  showing those output...**\n"
      ],
      "metadata": {
        "id": "R_zpLtqfKofq"
      }
    }
  ]
}